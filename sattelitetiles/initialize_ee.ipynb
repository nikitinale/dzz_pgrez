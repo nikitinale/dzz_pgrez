{
 "cells": [
  {
   "cell_type": "code",
   "execution_count": 1,
   "id": "5f76acda",
   "metadata": {},
   "outputs": [],
   "source": [
    "import ee"
   ]
  },
  {
   "cell_type": "code",
   "execution_count": 2,
   "id": "39828095",
   "metadata": {},
   "outputs": [
    {
     "data": {
      "text/html": [
       "<p>To authorize access needed by Earth Engine, open the following\n",
       "        URL in a web browser and follow the instructions:</p>\n",
       "        <p><a href=https://code.earthengine.google.com/client-auth?scopes=https%3A//www.googleapis.com/auth/earthengine%20https%3A//www.googleapis.com/auth/devstorage.full_control&request_id=cdsv3eHpcLb2c-ooE9GDJpo_Sg0ovawwjHhl2xCXtzw&tc=7Kp9kbXmcFR7ACIG1tf-gXytxshEWd08sQhqqU9wGGk&cc=C8m6ioM7rEwVJ81jodAdFXVk8kzhwuxa0nG9pYgaC5c>https://code.earthengine.google.com/client-auth?scopes=https%3A//www.googleapis.com/auth/earthengine%20https%3A//www.googleapis.com/auth/devstorage.full_control&request_id=cdsv3eHpcLb2c-ooE9GDJpo_Sg0ovawwjHhl2xCXtzw&tc=7Kp9kbXmcFR7ACIG1tf-gXytxshEWd08sQhqqU9wGGk&cc=C8m6ioM7rEwVJ81jodAdFXVk8kzhwuxa0nG9pYgaC5c</a></p>\n",
       "        <p>The authorization workflow will generate a code, which you\n",
       "        should paste in the box below</p>\n",
       "        "
      ],
      "text/plain": [
       "<IPython.core.display.HTML object>"
      ]
     },
     "metadata": {},
     "output_type": "display_data"
    },
    {
     "name": "stdout",
     "output_type": "stream",
     "text": [
      "Enter verification code: 4/1ARtbsJq9wg5YVNyfXuJGacGf_wO-Wh-skmTVGQY7ke20HVpstz3yXiYetmY\n",
      "\n",
      "Successfully saved authorization token.\n"
     ]
    }
   ],
   "source": [
    "# Authentification in Google Earth Engine if needed\n",
    "ee.Authenticate()\n",
    "# Initialization Google Earth Engine\n",
    "ee.Initialize()"
   ]
  },
  {
   "cell_type": "code",
   "execution_count": 3,
   "id": "70d58cb5",
   "metadata": {},
   "outputs": [
    {
     "data": {
      "text/plain": [
       "ee.Projection"
      ]
     },
     "execution_count": 3,
     "metadata": {},
     "output_type": "execute_result"
    }
   ],
   "source": [
    "# Test\n",
    "ee.Projection"
   ]
  }
 ],
 "metadata": {
  "kernelspec": {
   "display_name": "Python 3 (ipykernel)",
   "language": "python",
   "name": "python3"
  },
  "language_info": {
   "codemirror_mode": {
    "name": "ipython",
    "version": 3
   },
   "file_extension": ".py",
   "mimetype": "text/x-python",
   "name": "python",
   "nbconvert_exporter": "python",
   "pygments_lexer": "ipython3",
   "version": "3.8.13"
  }
 },
 "nbformat": 4,
 "nbformat_minor": 5
}
